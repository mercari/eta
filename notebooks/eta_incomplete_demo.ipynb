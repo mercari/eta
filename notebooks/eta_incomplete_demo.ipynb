{
 "cells": [
  {
   "cell_type": "code",
   "execution_count": 1,
   "metadata": {
    "autoscroll": false,
    "collapsed": false,
    "ein.tags": "worksheet-0",
    "slideshow": {
     "slide_type": "-"
    }
   },
   "outputs": [],
   "source": [
    "from eta.eta import * "
   ]
  },
  {
   "cell_type": "code",
   "execution_count": 2,
   "metadata": {
    "autoscroll": false,
    "collapsed": false,
    "ein.tags": "worksheet-0",
    "slideshow": {
     "slide_type": "-"
    }
   },
   "outputs": [],
   "source": [
    "import random\n",
    "from collections import defaultdict\n",
    "from itertools import combinations\n",
    "import numpy as np\n",
    "import matplotlib as mpl\n",
    "mpl.rcParams['font.size'] = 16\n",
    "mpl.rcParams['figure.figsize'] = [13.0, 8.0]\n",
    "mpl.rcParams['figure.dpi'] = 80\n",
    "mpl.rcParams['savefig.dpi'] = 80\n",
    "mpl.rcParams['legend.fontsize'] = 'medium'\n",
    "mpl.rcParams['figure.titlesize'] = 'large'\n",
    "import matplotlib.pyplot as plt\n",
    "plt.style.use(['ggplot', 'seaborn-deep'])"
   ]
  },
  {
   "cell_type": "code",
   "execution_count": 3,
   "metadata": {
    "autoscroll": false,
    "collapsed": false,
    "ein.tags": "worksheet-0",
    "slideshow": {
     "slide_type": "-"
    }
   },
   "outputs": [],
   "source": [
    "# params\n",
    "N = 50\n",
    "gradation = 5\n",
    "mu = np.arange(1, 5)"
   ]
  },
  {
   "cell_type": "code",
   "execution_count": 4,
   "metadata": {
    "autoscroll": false,
    "collapsed": false,
    "ein.tags": "worksheet-0",
    "slideshow": {
     "slide_type": "-"
    }
   },
   "outputs": [],
   "source": [
    "\n",
    "def generate_data_group(N):\n",
    "    Wr = np.eye(N) # winning rate\n",
    "\n",
    "    true_grad = []\n",
    "    for i in range(N):\n",
    "        true_grad.append(np.random.randint(1, gradation))\n",
    "    \n",
    "    for i in range(N):\n",
    "        for j in range(i+1, N):\n",
    "            gi = true_grad[i]\n",
    "            gj = true_grad[j]\n",
    "\n",
    "            vi = true_grad[i]\n",
    "            vj = true_grad[j]\n",
    "\n",
    "            Wr[i, j] = vi / (vi + vj)\n",
    "            Wr[j, i] = vj / (vi + vj)\n",
    "    \n",
    "    grouped = defaultdict(list)\n",
    "    for i, g in enumerate(true_grad):\n",
    "        grouped[g].append(i)\n",
    "        \n",
    "    all_swappable_pair = []\n",
    "    for (gi, gj) in combinations(range(1, gradation+1), 2):\n",
    "        for i in grouped[gi]:\n",
    "            for j in grouped[gj]:\n",
    "                all_swappable_pair.append((i, j))\n",
    "            \n",
    "    return true_grad, Wr, all_swappable_pair\n",
    "\n"
   ]
  },
  {
   "cell_type": "code",
   "execution_count": 5,
   "metadata": {
    "autoscroll": false,
    "collapsed": false,
    "ein.tags": "worksheet-0",
    "slideshow": {
     "slide_type": "-"
    }
   },
   "outputs": [],
   "source": [
    "def true_tau_b(ranking, true_grad):\n",
    "    N = len(ranking)\n",
    "    \n",
    "    nc = 0\n",
    "    nd = 0\n",
    "    t, u = 0, 0 \n",
    "    for i in range(N):\n",
    "        for j in range(i+1, N):\n",
    "            x = ranking[i]\n",
    "            y = ranking[j]\n",
    "            if true_grad[x] > true_grad[y]:\n",
    "                nc += 1\n",
    "            elif true_grad[x] < true_grad[y]:\n",
    "                nd += 1\n",
    "            if true_grad[x] == true_grad[y]:\n",
    "                u += 1\n",
    "    n0 = N * (N - 1) / 2\n",
    "    return (nc - nd) / np.sqrt((n0 - t)*(n0 - u))\n",
    "\n",
    "\n",
    "def calc_tau_two_serp(serp_ref, serp_tgt):\n",
    "    assert len(serp_ref) == len(serp_tgt)  \n",
    "    N = len(serp_ref)\n",
    "    \n",
    "    inv_dict_ref = {}\n",
    "    for i in range(N):\n",
    "        inv_dict_ref[serp_ref[i]] = i \n",
    "    \n",
    "    nc, nd = 0, 0\n",
    "    for i in range(N):\n",
    "        for j in range(i+1, N):\n",
    "            x = serp_tgt[i]\n",
    "            y = serp_tgt[j]\n",
    "            if inv_dict_ref[x] < inv_dict_ref[y]: \n",
    "                nc += 1\n",
    "            else:\n",
    "                nd += 1\n",
    "    return (nc - nd) / (N * (N - 1) / 2)      \n",
    "\n",
    "\n",
    "def calc_tau_b(ranking, pref):\n",
    "    N = len(ranking)\n",
    "    \n",
    "    nc, nd = 0, 0\n",
    "    t, u = 0, 0 \n",
    "    for i in range(N):\n",
    "        for j in range(i+1, N):\n",
    "            x = ranking[i]\n",
    "            y = ranking[j]\n",
    "            if pref[x, y] > pref[y, x]:\n",
    "                nc += 1\n",
    "            elif pref[x, y] < pref[y, x]:\n",
    "                nd += 1\n",
    "            else:\n",
    "                t += 1\n",
    "    n0 = N * (N - 1) / 2\n",
    "    return (nc - nd) / np.sqrt((n0 - t)*(n0 - u))\n",
    "\n",
    "\n",
    "def mm(wl_table):\n",
    "    N = len(wl_table)\n",
    "    Rt = np.ones(N) * 1500\n",
    "        \n",
    "    W = np.sum(wl_table, axis=1)\n",
    "    \n",
    "    for i in range(300):\n",
    "        ds = []\n",
    "        new_Rt = np.copy(Rt)\n",
    "        for i in range(N):\n",
    "            n_ab = wl_table[i, :] + wl_table[:, i]\n",
    "            non_zero = (n_ab != 0)\n",
    "            n_ab = n_ab[non_zero]\n",
    "            rs = (Rt[i] + Rt)[non_zero]\n",
    "            new_Rt_i = W[i] / np.sum(n_ab / rs)\n",
    "            new_Rt[i] = new_Rt_i\n",
    "        Rt = new_Rt\n",
    "    \n",
    "    return Rt\n",
    "\n",
    "\n",
    "def simulate_rr(num_observation=100, T=100, num_rater=3):\n",
    "    true_grad, Wr, all_swappable_pair = generate_data_group(N)\n",
    "    wl_table = np.zeros((N, N))\n",
    "    \n",
    "    pairs = list(combinations(range(N), 2))\n",
    "    \n",
    "    random.shuffle(pairs)\n",
    "    seen = set()\n",
    "    for (i, j) in random.sample(pairs, num_observation):\n",
    "        for vote in np.random.binomial(1, Wr[i, j], num_rater):\n",
    "            if vote == 1:\n",
    "                wl_table[i, j] += 1\n",
    "            else:\n",
    "                wl_table[j, i] += 1\n",
    "    \n",
    "    Rt = mm(wl_table)\n",
    "    \n",
    "    wl_table /= num_rater\n",
    "    wl_table_mm = np.zeros((N, N))\n",
    "    wl_for_etau_mm = np.zeros((N, N))\n",
    "    wl_for_etau = np.copy(wl_table)\n",
    "    wl_for_tau = np.zeros((N, N))\n",
    "    for i in range(N):\n",
    "        for j in range(i+1, N):\n",
    "            if wl_table[i, j] > wl_table[j, i]:\n",
    "                wl_for_tau[i, j] = 1\n",
    "            else:\n",
    "                wl_for_tau[j, i] = 1\n",
    "                \n",
    "            if wl_table[i, j] == 0 and wl_table[j, i] == 0:\n",
    "                wl_for_etau[i, j] = 0.5\n",
    "                wl_for_etau[j, i] = 0.5\n",
    "                \n",
    "            if Rt[i] > Rt[j]:\n",
    "                wl_table_mm[i, j] = 1\n",
    "                wl_table_mm[j, i] = 0\n",
    "            elif Rt[i] > Rt[j]:\n",
    "                wl_table_mm[i, j] = 0\n",
    "                wl_table_mm[j, i] = 1\n",
    "            else:\n",
    "                wl_table_mm[i, j] = 1\n",
    "                wl_table_mm[j, i] = 1\n",
    "                \n",
    "            wl_for_etau_mm[i, j] = Rt[i] / (Rt[i] + Rt[j])\n",
    "            wl_for_etau_mm[j, i] = Rt[j] / (Rt[i] + Rt[j])\n",
    "            \n",
    "    true_tau_list = []\n",
    "    tau_b_mm_list = []\n",
    "    etau1_list = []\n",
    "    etau1_mm_list = []\n",
    "    ideal = list(np.argsort(true_grad)[::-1])\n",
    "    swappable_pair = list(all_swappable_pair)\n",
    "    random.shuffle(swappable_pair)\n",
    "    for m in range(T):\n",
    "        if m % 20 == 0:\n",
    "            ideal = list(np.argsort(true_grad)[::-1])\n",
    "        i, j = random.choice(swappable_pair)\n",
    "        rank_i = ideal.index(i)\n",
    "        rank_j = ideal.index(j)\n",
    "        ideal[rank_i], ideal[rank_j] = ideal[rank_j], ideal[rank_i] \n",
    "        true_tau_list.append(true_tau_b(ideal, true_grad))\n",
    "        tau_b_mm_list.append(calc_tau_b(ideal, wl_table_mm))\n",
    "        etau1_mm_list.append(eta(ideal, wl_for_etau_mm))\n",
    "        etau1_list.append(eta(ideal, wl_for_etau))\n",
    "    \n",
    "    return true_tau_list, tau_b_mm_list, etau1_list, etau1_mm_list\n"
   ]
  },
  {
   "cell_type": "code",
   "execution_count": 6,
   "metadata": {
    "autoscroll": false,
    "collapsed": false,
    "ein.tags": "worksheet-0",
    "slideshow": {
     "slide_type": "-"
    }
   },
   "outputs": [
    {
     "name": "stdout",
     "output_type": "stream",
     "text": [
      "300\n"
     ]
    },
    {
     "name": "stdout",
     "output_type": "stream",
     "text": [
      "400\n"
     ]
    },
    {
     "name": "stdout",
     "output_type": "stream",
     "text": [
      "500\n"
     ]
    },
    {
     "name": "stdout",
     "output_type": "stream",
     "text": [
      "600\n"
     ]
    },
    {
     "name": "stdout",
     "output_type": "stream",
     "text": [
      "700\n"
     ]
    },
    {
     "name": "stdout",
     "output_type": "stream",
     "text": [
      "800\n"
     ]
    },
    {
     "name": "stdout",
     "output_type": "stream",
     "text": [
      "900\n"
     ]
    },
    {
     "name": "stdout",
     "output_type": "stream",
     "text": [
      "1000\n"
     ]
    },
    {
     "name": "stdout",
     "output_type": "stream",
     "text": [
      "1100\n"
     ]
    }
   ],
   "source": [
    "MC_TRIALS = 10\n",
    "\n",
    "rr_tau_b_ls = []\n",
    "rr_eta_ls = []\n",
    "rr_eta_mm_ls = []\n",
    "for obsr in np.arange(200, 1200, 100):\n",
    "    print(obsr)\n",
    "    rr_tau_b = []\n",
    "    rr_eta = []\n",
    "    rr_eta_mm = []\n",
    "    for i in range(MC_TRIALS):\n",
    "        ttl, tbl, etl, etml = simulate_rr(num_observation=obsr, T=500)\n",
    "        rr_tau_b.append(np.corrcoef(ttl, tbl)[0, 1])\n",
    "        rr_eta.append(np.corrcoef(ttl, etl)[0, 1])\n",
    "        rr_eta_mm.append(np.corrcoef(ttl, etml)[0, 1])\n",
    "    rr_tau_b_ls.append(rr_tau_b)\n",
    "    rr_eta_ls.append(rr_eta)\n",
    "    rr_eta_mm_ls.append(rr_eta_mm)\n"
   ]
  },
  {
   "cell_type": "code",
   "execution_count": 7,
   "metadata": {
    "autoscroll": false,
    "collapsed": false,
    "ein.tags": "worksheet-0",
    "slideshow": {
     "slide_type": "-"
    }
   },
   "outputs": [],
   "source": [
    "def plt_errbar_obs(x, rr_tau_ls, label):\n",
    "    sorted_rr_tau_ls = np.sort(rr_tau_ls, axis=1)\n",
    "    y = np.average(sorted_rr_tau_ls, axis=1)\n",
    "    y_pos = np.max(sorted_rr_tau_ls, axis=1) - y\n",
    "    y_neg = y - np.min(sorted_rr_tau_ls, axis=1)\n",
    "    plt.errorbar(x, y, yerr=[y_neg, y_pos], fmt='o', capsize=5, label=label, linestyle='dotted')       "
   ]
  },
  {
   "cell_type": "code",
   "execution_count": 8,
   "metadata": {
    "autoscroll": false,
    "collapsed": false,
    "ein.tags": "worksheet-0",
    "slideshow": {
     "slide_type": "-"
    }
   },
   "outputs": [
    {
     "data": {
      "text/plain": [
       "<matplotlib.legend.Legend at 0x7ff9c792d7b8>"
      ]
     },
     "execution_count": 8,
     "metadata": {},
     "output_type": "execute_result"
    },
    {
     "data": {
      "image/png": "[encoded data removed]",
      "text/plain": [
       "<Figure size 1080x576 with 1 Axes>"
      ]
     },
     "metadata": {},
     "output_type": "display_data"
    }
   ],
   "source": [
    "plt.figure(figsize=(15, 8))\n",
    "plt_errbar_obs(np.arange(200, 1200, 100), rr_tau_b_ls, '$\\\\tau$-b-MM')\n",
    "plt_errbar_obs(np.arange(200, 1200, 100), rr_eta_ls, '$\\eta$')\n",
    "plt_errbar_obs(np.arange(200, 1200, 100), rr_eta_mm_ls, '$\\eta-MM$')\n",
    "plt.ylabel(\"Pearson's Correlation\")\n",
    "plt.xlabel(\"Number of Data\")\n",
    "plt.legend()"
   ]
  }
 ],
 "metadata": {
  "kernelspec": {
   "display_name": "Python 3",
   "name": "python3"
  },
  "name": "Untitled.ipynb"
 },
 "nbformat": 4,
 "nbformat_minor": 2
}
